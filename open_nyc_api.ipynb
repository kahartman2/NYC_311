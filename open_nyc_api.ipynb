{
 "cells": [
  {
   "cell_type": "code",
   "execution_count": 66,
   "metadata": {},
   "outputs": [],
   "source": [
    "import requests\n",
    "import pandas as pd\n",
    "import json\n",
    "import csv\n",
    "from sodapy import Socrata\n",
    "#created_date=2014-04& created_date=2014-04&borough=QUEENS' created_date=2014&agency=NYPD"
   ]
  },
  {
   "cell_type": "code",
   "execution_count": 70,
   "metadata": {},
   "outputs": [
    {
     "name": "stderr",
     "output_type": "stream",
     "text": [
      "WARNING:root:Requests made without an app_token will be subject to strict throttling limits.\n"
     ]
    }
   ],
   "source": [
    "# client = Socrata(\"data.cityofnewyork.us\", None)\n",
    "# results = client.get(\"fhrw-4uyv\", limit=2000)\n",
    "url = requests.get('https://data.cityofnewyork.us/resource/fhrw-4uyv.json?$where=created_date=2010-01-01T00:00:00.000 and https://data.cityofnewyork.us/resource/fhrw-4uyv.json?created_date=2010-05-01T00:00:00.000')\n",
    "open_nyc = url.json()\n",
    "open_nyc"
   ]
  },
  {
   "cell_type": "code",
   "execution_count": null,
   "metadata": {},
   "outputs": [],
   "source": [
    "agency_names = ['Department of Housing Preservation and Development', 'Department of Transportation', 'New York City Police Department', 'Department of Sanitation', ]\n",
    "\n"
   ]
  }
 ],
 "metadata": {
  "kernelspec": {
   "display_name": "Python 3",
   "language": "python",
   "name": "python3"
  },
  "language_info": {
   "codemirror_mode": {
    "name": "ipython",
    "version": 3
   },
   "file_extension": ".py",
   "mimetype": "text/x-python",
   "name": "python",
   "nbconvert_exporter": "python",
   "pygments_lexer": "ipython3",
   "version": "3.7.0"
  }
 },
 "nbformat": 4,
 "nbformat_minor": 2
}
